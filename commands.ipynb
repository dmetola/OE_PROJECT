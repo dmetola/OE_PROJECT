{
 "cells": [
  {
   "cell_type": "code",
   "execution_count": null,
   "metadata": {},
   "outputs": [],
   "source": [
    "!python -m stanza.utils.training.run_tokenizer ang_ewt-ud-train.conllu\n",
    "!python -m stanza.utils.training.run_lemma ang_ewt-ud-train.conllu\n",
    "!python -m stanza.utils.training.run_ner ang_ewt-ud-train.conllu\n",
    "!python -m stanza.utils.training.run_depparse ang_ewt-ud-train.conllu"
   ]
  },
  {
   "cell_type": "code",
   "execution_count": null,
   "metadata": {},
   "outputs": [],
   "source": []
  }
 ],
 "metadata": {
  "kernelspec": {
   "display_name": "Python 3",
   "language": "python",
   "name": "python3"
  },
  "language_info": {
   "codemirror_mode": {
    "name": "ipython",
    "version": 3
   },
   "file_extension": ".py",
   "mimetype": "text/x-python",
   "name": "python",
   "nbconvert_exporter": "python",
   "pygments_lexer": "ipython3",
   "version": "3.10.0"
  },
  "orig_nbformat": 4
 },
 "nbformat": 4,
 "nbformat_minor": 2
}
